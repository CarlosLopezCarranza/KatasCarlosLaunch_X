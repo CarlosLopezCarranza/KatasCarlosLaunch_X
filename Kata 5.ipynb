{
 "cells": [
  {
   "cell_type": "code",
   "execution_count": 9,
   "metadata": {},
   "outputs": [
    {
     "name": "stdout",
     "output_type": "stream",
     "text": [
      "628949330\n",
      "390577533.93\n"
     ]
    }
   ],
   "source": [
    "#Ejercicio 1, Kata 5\n",
    "Tierra= 149597870\n",
    "Jupiter= 778547200\n",
    "distacia= Jupiter - Tierra\n",
    "distacia_enM= distacia*0.621\n",
    "print(distacia)\n",
    "print(distacia_enM)"
   ]
  },
  {
   "cell_type": "code",
   "execution_count": 11,
   "metadata": {},
   "outputs": [
    {
     "name": "stdout",
     "output_type": "stream",
     "text": [
      "Distacia en Km\n",
      "50300000\n",
      "Distacia en millas\n",
      "31236300.0\n"
     ]
    }
   ],
   "source": [
    "#Ejercicio 2, Kata 5\n",
    "planeta1 = input(\"¿Que distancia se encuentra el Primer planeta con respecto al sol en Km? \")\n",
    "planeta2 = input(\"¿Que distancia se encuentra el Segundo planeta con respecto al sol en Km? \")\n",
    "planeta1 = int(planeta1)\n",
    "planeta2 = int(planeta2)\n",
    "\n",
    "distacia= planeta1 - planeta2\n",
    "print(\"Distacia en Km\")\n",
    "print(abs(distacia))\n",
    "print(\"Distacia en millas\")\n",
    "print(abs(distacia*0.621))"
   ]
  }
 ],
 "metadata": {
  "interpreter": {
   "hash": "7c84132ec9031317e12c52875d135ed5520c9b7af6f75c3db325015c6fa8fbe2"
  },
  "kernelspec": {
   "display_name": "Python 3.10.2 64-bit",
   "language": "python",
   "name": "python3"
  },
  "language_info": {
   "codemirror_mode": {
    "name": "ipython",
    "version": 3
   },
   "file_extension": ".py",
   "mimetype": "text/x-python",
   "name": "python",
   "nbconvert_exporter": "python",
   "pygments_lexer": "ipython3",
   "version": "3.10.2"
  },
  "orig_nbformat": 4
 },
 "nbformat": 4,
 "nbformat_minor": 2
}
