{
 "cells": [
  {
   "cell_type": "code",
   "execution_count": 18,
   "metadata": {},
   "outputs": [
    {
     "name": "stdout",
     "output_type": "stream",
     "text": [
      "En total de planetas son: 8\n",
      "Pluton es el planeta agregado.\n"
     ]
    }
   ],
   "source": [
    "#Ejercicio 1, Kata 6\n",
    "planets = ['Mercurio', 'Venus', 'Tierra', 'Marte', 'Jupiter', 'Saturno', 'Urano', 'Neptuno']\n",
    "\n",
    "print('En total de planetas son:', len(planets))\n",
    "\n",
    "planets.append('Pluton')\n",
    "\n",
    "print(planets[-1], 'es el planeta agregado.')\n"
   ]
  },
  {
   "cell_type": "code",
   "execution_count": 53,
   "metadata": {},
   "outputs": [
    {
     "name": "stdout",
     "output_type": "stream",
     "text": [
      "Los planetas mas lejos que asd\n",
      "['Mercury', 'Venus', 'Earth', 'Mars', 'Jupiter', 'Saturn', 'Neptune']\n",
      "Los planetas mas cercanos que asd\n",
      "[]\n"
     ]
    }
   ],
   "source": [
    "#Ejercicio 2, Kata 6\n",
    "planets = ['Mercury', 'Venus', 'Earth', 'Mars', 'Jupiter', 'Saturn', 'Neptune']\n",
    "\n",
    "nombre= input(\"¿Que nombre de planeta quieres arreglar (primera letra en mayuscula)?\") \n",
    "planets.append(nombre)\n",
    "busqueda = planets.index(nombre)\n",
    "\n",
    "print('Los planetas mas lejos que ' + nombre)\n",
    "print(planets[0: busqueda])\n",
    "\n",
    "print('Los planetas mas cercanos que ' + nombre)\n",
    "print(planets[busqueda + 1:])\n",
    "\n"
   ]
  }
 ],
 "metadata": {
  "interpreter": {
   "hash": "7c84132ec9031317e12c52875d135ed5520c9b7af6f75c3db325015c6fa8fbe2"
  },
  "kernelspec": {
   "display_name": "Python 3.10.2 64-bit",
   "language": "python",
   "name": "python3"
  },
  "language_info": {
   "codemirror_mode": {
    "name": "ipython",
    "version": 3
   },
   "file_extension": ".py",
   "mimetype": "text/x-python",
   "name": "python",
   "nbconvert_exporter": "python",
   "pygments_lexer": "ipython3",
   "version": "3.10.2"
  },
  "orig_nbformat": 4
 },
 "nbformat": 4,
 "nbformat_minor": 2
}
