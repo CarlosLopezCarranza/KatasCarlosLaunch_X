{
 "cells": [
  {
   "cell_type": "code",
   "execution_count": 7,
   "metadata": {},
   "outputs": [
    {
     "name": "stdout",
     "output_type": "stream",
     "text": [
      "El Asteroide esta muy cerca! \n"
     ]
    }
   ],
   "source": [
    "#primer ejercisio\n",
    "asteroide = 49\n",
    "if (asteroide>25):\n",
    "    print(\"El Asteroide esta muy cerca! \")\n",
    "else:\n",
    "    print(\"El Asteroide esta en una distancia segura \")"
   ]
  },
  {
   "cell_type": "code",
   "execution_count": 8,
   "metadata": {},
   "outputs": [
    {
     "name": "stdout",
     "output_type": "stream",
     "text": [
      "El asteroide no dejo un rayo de luz\n"
     ]
    }
   ],
   "source": [
    "#Segundo ejercisio\n",
    "asteroide=19\n",
    "if(asteroide>20):\n",
    "    print(\"El asteroide dejo un rayo de luz\")\n",
    "elif(asteroide==20):\n",
    "    print(\"El asteroide dejo un rayo de luz\")\n",
    "else:\n",
    "    print(\"El asteroide no dejo un rayo de luz\")"
   ]
  },
  {
   "cell_type": "code",
   "execution_count": 9,
   "metadata": {},
   "outputs": [
    {
     "name": "stdout",
     "output_type": "stream",
     "text": [
      "El asteroide dejo un rayo de luz\n"
     ]
    }
   ],
   "source": [
    "#Tercer ejercisio\n",
    "velocidad_asteroide = 25\n",
    "longitud = 40\n",
    "if (velocidad_asteroide>25 and longitud>25):\n",
    "    print(\"Peligro! El Asteroide esta muy cerca! \")\n",
    "elif(velocidad_asteroide>=25):\n",
    "    print(\"El asteroide dejo un rayo de luz\")\n",
    "elif(longitud<25):\n",
    "    print(\"El asteroide no dejo un rayo de luz\")\n",
    "else:\n",
    "    print(\"El Asteroide esta en una distancia segura \")"
   ]
  }
 ],
 "metadata": {
  "interpreter": {
   "hash": "7c84132ec9031317e12c52875d135ed5520c9b7af6f75c3db325015c6fa8fbe2"
  },
  "kernelspec": {
   "display_name": "Python 3.10.2 64-bit",
   "language": "python",
   "name": "python3"
  },
  "language_info": {
   "codemirror_mode": {
    "name": "ipython",
    "version": 3
   },
   "file_extension": ".py",
   "mimetype": "text/x-python",
   "name": "python",
   "nbconvert_exporter": "python",
   "pygments_lexer": "ipython3",
   "version": "3.10.2"
  },
  "orig_nbformat": 4
 },
 "nbformat": 4,
 "nbformat_minor": 2
}
