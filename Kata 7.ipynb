{
 "cells": [
  {
   "cell_type": "code",
   "execution_count": 29,
   "metadata": {},
   "outputs": [
    {
     "name": "stdout",
     "output_type": "stream",
     "text": [
      "['xd', 'terminado+']\n"
     ]
    }
   ],
   "source": [
    "#Ejercicio 1, Kata 7\n",
    "lista_planetas =[]\n",
    "new_planet = ''\n",
    "\n",
    "while new_planet.lower() != 'terminado':\n",
    "    if new_planet:\n",
    "        lista_planetas.append(new_planet)\n",
    "    new_planet = input('Pon el nombre del nuevo planeta (para parar la lista pon \"terminado\"): ')\n",
    "\n",
    "print(lista_planetas)"
   ]
  },
  {
   "cell_type": "code",
   "execution_count": 30,
   "metadata": {},
   "outputs": [
    {
     "name": "stdout",
     "output_type": "stream",
     "text": [
      "xd\n",
      "terminado+\n",
      "xd\n",
      "xd\n",
      "xd\n",
      "asd\n"
     ]
    }
   ],
   "source": [
    "#Ejercicio 2, Kata 7\n",
    "new_planet = ''\n",
    "lista_planetass = []\n",
    "\n",
    "while new_planet.lower() != 'terminado':\n",
    "    if new_planet:\n",
    "        lista_planetas.append(new_planet)\n",
    "    new_planet = input('Pon el nombre del nuevo planeta(para parar la lista pon \"terminado\"): ')\n",
    "\n",
    "for planet in lista_planetas:\n",
    "    print(planet)"
   ]
  }
 ],
 "metadata": {
  "interpreter": {
   "hash": "7c84132ec9031317e12c52875d135ed5520c9b7af6f75c3db325015c6fa8fbe2"
  },
  "kernelspec": {
   "display_name": "Python 3.10.2 64-bit",
   "language": "python",
   "name": "python3"
  },
  "language_info": {
   "codemirror_mode": {
    "name": "ipython",
    "version": 3
   },
   "file_extension": ".py",
   "mimetype": "text/x-python",
   "name": "python",
   "nbconvert_exporter": "python",
   "pygments_lexer": "ipython3",
   "version": "3.10.2"
  },
  "orig_nbformat": 4
 },
 "nbformat": 4,
 "nbformat_minor": 2
}
